{
 "cells": [
  {
   "cell_type": "code",
   "execution_count": 1,
   "metadata": {},
   "outputs": [],
   "source": [
    "# Hack to use uninstalled package in a notebook\n",
    "import sys\n",
    "sys.path.append('/media/marcelo/OS/Users/marx/Documents/marcelo/near/projects/program_synthesis/')\n",
    "\n",
    "while sys.path[-1] == sys.path[-2]:\n",
    "    sys.path.pop()\n",
    "\n",
    "import numpy as np\n",
    "import matplotlib.pyplot as plt\n",
    "import seaborn as sns\n",
    "\n",
    "import program_synthesis\n",
    "from importlib import reload\n",
    "from functools import reduce\n",
    "from tqdm import tqdm\n",
    "\n",
    "import torch\n",
    "import torch.nn as nn"
   ]
  },
  {
   "cell_type": "code",
   "execution_count": 121,
   "metadata": {},
   "outputs": [],
   "source": [
    "import program_synthesis.karel as karel\n",
    "import program_synthesis.karel.dataset.refine_env as env\n",
    "import program_synthesis.karel.dataset.utils as utils\n",
    "import program_synthesis.karel.dataset.mutation as mutation\n",
    "import program_synthesis.karel.dataset.executor as executor\n",
    "import program_synthesis.karel.models.modules.karel_common as karel_common\n",
    "import program_synthesis.karel.models.modules as modules\n",
    "import program_synthesis.tools.saver as saver\n",
    "\n",
    "args = saver.ArgsDict(\n",
    "        num_epochs=100, max_rollout_length=30, replay_buffer_size=16384, max_token_per_code=75,\n",
    "        num_episodes=10, num_training_steps=10, batch_size=32, update_actor_epoch=10,\n",
    "        rl_discount=.9, rl_eps_action=.1, rl_eps_parameter=.5, rl_alpha=.7,\n",
    "        karel_io_enc='lgrl', lr=0.001, cuda=False)\n",
    "\n",
    "_ = reload(karel)\n",
    "_ = reload(env)"
   ]
  },
  {
   "cell_type": "markdown",
   "metadata": {},
   "source": [
    "# Dataset"
   ]
  },
  {
   "cell_type": "code",
   "execution_count": 3,
   "metadata": {},
   "outputs": [
    {
     "name": "stdout",
     "output_type": "stream",
     "text": [
      "Train size: 1116854\n",
      "Test size: 2500\n"
     ]
    }
   ],
   "source": [
    "# Loading dataset\n",
    "train_ds = karel.dataset.dataset.KarelTorchDataset(karel.dataset.dataset.relpath('../../data/karel/{}{}.pkl'.format('train', '')), lambda x: x)\n",
    "test_ds = karel.dataset.dataset.KarelTorchDataset(karel.dataset.dataset.relpath('../../data/karel/{}{}.pkl'.format('test', '')), lambda x: x)\n",
    "\n",
    "print(\"Train size:\", len(train_ds))\n",
    "print(\"Test size:\", len(test_ds))"
   ]
  },
  {
   "cell_type": "code",
   "execution_count": 4,
   "metadata": {},
   "outputs": [
    {
     "name": "stdout",
     "output_type": "stream",
     "text": [
      "Loaded vocab /media/marcelo/OS/Users/marx/Documents/marcelo/near/projects/program_synthesis/program_synthesis/karel/../../data/karel/word.vocab: 43\n",
      "43\n"
     ]
    }
   ],
   "source": [
    "from program_synthesis.karel.dataset import data\n",
    "\n",
    "vocab = data.PlaceholderVocab(data.load_vocab(karel.dataset.dataset.relpath('../../data/karel/word.vocab')), 0)\n",
    "\n",
    "print(len(vocab))"
   ]
  },
  {
   "cell_type": "code",
   "execution_count": 5,
   "metadata": {},
   "outputs": [
    {
     "name": "stdout",
     "output_type": "stream",
     "text": [
      "Distributions plot skipped. Set `display=True` to see distributions.\n"
     ]
    }
   ],
   "source": [
    "# Display sequence length distribution among all examples\n",
    "display = False\n",
    "\n",
    "if display:\n",
    "    for name, ds in zip(\"test train\".split(), (test_ds, train_ds)):\n",
    "        ds_loader = torch.utils.data.DataLoader(\n",
    "                    ds, collate_fn=lambda x : x,shuffle=True\n",
    "                )\n",
    "\n",
    "        tokens = []\n",
    "        for (ex,) in tqdm(ds_loader):\n",
    "            tokens.append(len(ex.code_sequence))\n",
    "\n",
    "        print(name, max(tokens))\n",
    "        sns.distplot(tokens)\n",
    "        plt.show()\n",
    "else:\n",
    "    print(\"Distributions plot skipped. Set `display=True` to see distributions.\")"
   ]
  },
  {
   "cell_type": "code",
   "execution_count": 6,
   "metadata": {},
   "outputs": [
    {
     "name": "stdout",
     "output_type": "stream",
     "text": [
      "CODE: DEF run m( pickMarker pickMarker turnLeft move m)\n",
      "INPUT TESTS: 5\n",
      "TESTS: 1\n"
     ]
    }
   ],
   "source": [
    "# Using example\n",
    "\n",
    "example = train_ds[20]\n",
    "\n",
    "print(\"CODE:\", ' '.join(example.code_sequence))\n",
    "print(\"INPUT TESTS:\", len(example.input_tests))\n",
    "print(\"TESTS:\", len(example.tests))"
   ]
  },
  {
   "cell_type": "code",
   "execution_count": 7,
   "metadata": {},
   "outputs": [
    {
     "name": "stdout",
     "output_type": "stream",
     "text": [
      "DEF run {\n",
      "  pickMarker pickMarker turnLeft move\n",
      "}\n"
     ]
    }
   ],
   "source": [
    "print(utils.beautify(' '.join(example.code_sequence)))"
   ]
  },
  {
   "cell_type": "code",
   "execution_count": 8,
   "metadata": {},
   "outputs": [
    {
     "name": "stdout",
     "output_type": "stream",
     "text": [
      "e2e9f357c02beb45\n",
      "2dbe199824820341\n",
      "98615b5349e92aae\n",
      "53c2f809b022da59\n",
      "7d9397f549c5b00f\n",
      "3e83d26953a12027\n",
      "Total: 2500\n"
     ]
    }
   ],
   "source": [
    "# Using data loader to iterate over the dataset\n",
    "dataset_loader = torch.utils.data.DataLoader(\n",
    "            test_ds, collate_fn=lambda x : x,shuffle=True\n",
    "        )\n",
    "\n",
    "total = 0\n",
    "\n",
    "for idx, x in enumerate(dataset_loader):\n",
    "    if idx <= 5: # Print 5 first elements\n",
    "        print(x[0].guid)\n",
    "    total +=1 \n",
    "\n",
    "print(\"Total:\", total)"
   ]
  },
  {
   "cell_type": "code",
   "execution_count": 9,
   "metadata": {},
   "outputs": [
    {
     "data": {
      "text/plain": [
       "1"
      ]
     },
     "execution_count": 9,
     "metadata": {},
     "output_type": "execute_result"
    }
   ],
   "source": [
    "len(example.tests)"
   ]
  },
  {
   "cell_type": "code",
   "execution_count": 10,
   "metadata": {},
   "outputs": [],
   "source": [
    "def grid_from_pck(input, output):\n",
    "    answer = []\n",
    "    \n",
    "    for grid_id in (input, output):\n",
    "        grid = np.zeros((1, 15, 18, 18))\n",
    "        grid.ravel()[grid_id] = 1\n",
    "        answer.append(grid)\n",
    "        \n",
    "    return tuple(answer)\n",
    "\n",
    "def grid_from_example(example, include_test=False):\n",
    "    input = []\n",
    "    output = []\n",
    "    \n",
    "    tests = example.input_tests if not include_test else example.input_tests + example.tests\n",
    "    \n",
    "    for test in tests:\n",
    "        I, O = grid_from_pck(test['input'], test['output'])\n",
    "        input.append(I)\n",
    "        output.append(O)\n",
    "        \n",
    "    return np.concatenate(input), np.concatenate(output)"
   ]
  },
  {
   "cell_type": "code",
   "execution_count": 11,
   "metadata": {},
   "outputs": [],
   "source": [
    "def compose(funcs):\n",
    "    return lambda x : reduce(lambda y, f: f(y), funcs, x)"
   ]
  },
  {
   "cell_type": "code",
   "execution_count": 12,
   "metadata": {},
   "outputs": [
    {
     "name": "stdout",
     "output_type": "stream",
     "text": [
      "DEF run {\n",
      "  pickMarker pickMarker turnLeft move\n",
      "}\n"
     ]
    },
    {
     "data": {
      "image/png": "[encoded data removed]",
      "text/plain": [
       "<Figure size 432x288 with 2 Axes>"
      ]
     },
     "metadata": {},
     "output_type": "display_data"
    },
    {
     "data": {
      "image/png": "[encoded data removed]",
      "text/plain": [
       "<Figure size 432x288 with 2 Axes>"
      ]
     },
     "metadata": {},
     "output_type": "display_data"
    },
    {
     "data": {
      "image/png": "[encoded data removed]",
      "text/plain": [
       "<Figure size 432x288 with 2 Axes>"
      ]
     },
     "metadata": {},
     "output_type": "display_data"
    },
    {
     "data": {
      "image/png": "[encoded data removed]",
      "text/plain": [
       "<Figure size 432x288 with 2 Axes>"
      ]
     },
     "metadata": {},
     "output_type": "display_data"
    },
    {
     "data": {
      "image/png": "[encoded data removed]",
      "text/plain": [
       "<Figure size 432x288 with 2 Axes>"
      ]
     },
     "metadata": {},
     "output_type": "display_data"
    }
   ],
   "source": [
    "# Display tests\n",
    "colors=None\n",
    "\n",
    "print(utils.beautify(' '.join(example.code_sequence)))\n",
    "\n",
    "for test in example.input_tests:\n",
    "    fig = plt.figure()    \n",
    "    inp_p = fig.add_subplot(121)\n",
    "    out_p = fig.add_subplot(122)\n",
    "    input, output = test['input'], test['output']\n",
    "\n",
    "    grid = np.zeros((15, 18, 18))\n",
    "    grid.ravel()[input] = 1\n",
    "    A = grid.argmax(axis=0)\n",
    "    sns.heatmap(A, cmap=colors, ax=inp_p, cbar=False, square=True, robust=True)\n",
    "    \n",
    "    grid = np.zeros((15, 18, 18))\n",
    "    grid.ravel()[output] = 1\n",
    "    A = grid.argmax(axis=0)\n",
    "    sns.heatmap(A, cmap=colors, ax=out_p, cbar=False, square=True, robust=True)\n",
    "    plt.show()"
   ]
  },
  {
   "cell_type": "code",
   "execution_count": 13,
   "metadata": {},
   "outputs": [
    {
     "name": "stdout",
     "output_type": "stream",
     "text": [
      "DEF run {\n",
      "}\n",
      "DEF run {\n",
      "  pickMarker pickMarker turnLeft move\n",
      "}\n"
     ]
    }
   ],
   "source": [
    "# Mutations and executions are done through `KarelRefineEnv`\n",
    "# Read implementation for more details\n",
    "_ = reload(env)\n",
    "\n",
    "kenv = env.KarelRefineEnv(example.input_tests)\n",
    "obs = kenv.reset()\n",
    "\n",
    "kenv.render()\n",
    "\n",
    "print(utils.beautify(' '.join(example.code_sequence)))"
   ]
  },
  {
   "cell_type": "code",
   "execution_count": 154,
   "metadata": {},
   "outputs": [
    {
     "name": "stdout",
     "output_type": "stream",
     "text": [
      "['DEF', 'run', 'm(', 'pickMarker', 'pickMarker', 'turnLeft', 'move', 'm)']\n",
      "[497, 1318, 1319, 1333, 1340, 1360, 1361, 1362, 1363, 1369, 1371, 1387, 1393, 1398, 1406, 1412, 1416, 1429, 1432, 1446, 1452, 1467, 1489, 1499, 1504, 1507, 1515, 1523, 1531, 1532, 1537, 1542, 1543, 1550, 1552, 1554, 1568, 1569, 1570, 1578, 1591, 1620, 1621, 1622, 1623, 1624, 1625, 1626, 1627, 1628, 1629, 1630, 1631, 1632, 1633, 1634, 1638, 1652, 1656, 1670, 1674, 1688, 1692, 1706, 1710, 1724, 1728, 1742, 1746, 1760, 1764, 1778, 1782, 1796, 1800, 1814, 1818, 1832, 1836, 1850, 1854, 1868, 1872, 1886, 1890, 1904, 1908, 1922, 1926, 1927, 1928, 1929, 1930, 1931, 1932, 1933, 1934, 1935, 1936, 1937, 1938, 1939, 1940, 1974, 1986, 2038, 2053, 2056, 2071, 2081, 2082, 2083, 2089, 2096, 2109, 2116, 2126, 2154, 2167, 2172, 2173, 2215, 2441, 2612, 2888, 3178, 3804, 4433, 4465, 4693]\n",
      "[191, 1318, 1319, 1333, 1340, 1360, 1361, 1362, 1363, 1369, 1371, 1387, 1393, 1398, 1406, 1412, 1416, 1429, 1432, 1446, 1452, 1467, 1489, 1499, 1504, 1507, 1515, 1523, 1531, 1532, 1537, 1542, 1543, 1550, 1552, 1554, 1568, 1569, 1570, 1578, 1591, 1620, 1621, 1622, 1623, 1624, 1625, 1626, 1627, 1628, 1629, 1630, 1631, 1632, 1633, 1634, 1638, 1652, 1656, 1670, 1674, 1688, 1692, 1706, 1710, 1724, 1728, 1742, 1746, 1760, 1764, 1778, 1782, 1796, 1800, 1814, 1818, 1832, 1836, 1850, 1854, 1868, 1872, 1886, 1890, 1904, 1908, 1922, 1926, 1927, 1928, 1929, 1930, 1931, 1932, 1933, 1934, 1935, 1936, 1937, 1938, 1939, 1940, 1974, 1986, 2038, 2053, 2056, 2071, 2081, 2082, 2083, 2089, 2096, 2109, 2116, 2126, 2154, 2167, 2172, 2173, 2215, 2612, 2888, 3178, 3804, 4433, 4465, 4693]\n"
     ]
    }
   ],
   "source": [
    "# Execute code on sample input\n",
    "ex = executor.KarelExecutor()\n",
    "print(example.code_sequence)\n",
    "print(example.input_tests[0]['input'])\n",
    "out = ex.execute(example.code_sequence, None, example.input_tests[0]['input'])\n",
    "print(out.result)\n",
    "# print(out.result == example.input_tests[0]['output'])"
   ]
  },
  {
   "cell_type": "markdown",
   "metadata": {},
   "source": [
    "# Models"
   ]
  },
  {
   "cell_type": "code",
   "execution_count": 15,
   "metadata": {},
   "outputs": [
    {
     "ename": "NameError",
     "evalue": "name 'a' is not defined",
     "output_type": "error",
     "traceback": [
      "\u001b[0;31m---------------------------------------------------------------------------\u001b[0m",
      "\u001b[0;31mNameError\u001b[0m                                 Traceback (most recent call last)",
      "\u001b[0;32m<ipython-input-15-26557932bd70>\u001b[0m in \u001b[0;36m<module>\u001b[0;34m()\u001b[0m\n\u001b[1;32m      6\u001b[0m \u001b[0mI\u001b[0m\u001b[0;34m,\u001b[0m \u001b[0mO\u001b[0m \u001b[0;34m=\u001b[0m \u001b[0mmap\u001b[0m\u001b[0;34m(\u001b[0m\u001b[0mfix\u001b[0m\u001b[0;34m,\u001b[0m \u001b[0mgrid_from_example\u001b[0m\u001b[0;34m(\u001b[0m\u001b[0mexample\u001b[0m\u001b[0;34m)\u001b[0m\u001b[0;34m)\u001b[0m\u001b[0;34m\u001b[0m\u001b[0m\n\u001b[1;32m      7\u001b[0m \u001b[0;34m\u001b[0m\u001b[0m\n\u001b[0;32m----> 8\u001b[0;31m \u001b[0mtask_encoder\u001b[0m \u001b[0;34m=\u001b[0m \u001b[0mkarel_common\u001b[0m\u001b[0;34m.\u001b[0m\u001b[0mLGRLTaskEncoder\u001b[0m\u001b[0;34m(\u001b[0m\u001b[0ma\u001b[0m\u001b[0;34m)\u001b[0m\u001b[0;34m\u001b[0m\u001b[0m\n\u001b[0m\u001b[1;32m      9\u001b[0m \u001b[0mx\u001b[0m \u001b[0;34m=\u001b[0m \u001b[0mtask_encoder\u001b[0m\u001b[0;34m(\u001b[0m\u001b[0mI\u001b[0m\u001b[0;34m,\u001b[0m \u001b[0mO\u001b[0m\u001b[0;34m)\u001b[0m\u001b[0;34m\u001b[0m\u001b[0m\n\u001b[1;32m     10\u001b[0m \u001b[0mprint\u001b[0m\u001b[0;34m(\u001b[0m\u001b[0;34m\"Task:\"\u001b[0m\u001b[0;34m,\u001b[0m \u001b[0mx\u001b[0m\u001b[0;34m.\u001b[0m\u001b[0msize\u001b[0m\u001b[0;34m(\u001b[0m\u001b[0;34m)\u001b[0m\u001b[0;34m)\u001b[0m\u001b[0;34m\u001b[0m\u001b[0m\n",
      "\u001b[0;31mNameError\u001b[0m: name 'a' is not defined"
     ]
    }
   ],
   "source": [
    "def fix(x):\n",
    "    x = torch.from_numpy(x)\n",
    "    x = x.to(torch.float32)\n",
    "    return x\n",
    "\n",
    "I, O = map(fix, grid_from_example(example))\n",
    "\n",
    "task_encoder = karel_common.LGRLTaskEncoder(a)\n",
    "x = task_encoder(I, O)\n",
    "print(\"Task:\", x.size())"
   ]
  },
  {
   "cell_type": "code",
   "execution_count": 16,
   "metadata": {},
   "outputs": [
    {
     "name": "stdout",
     "output_type": "stream",
     "text": [
      "['DEF', 'run', 'm(', 'pickMarker', 'pickMarker', 'turnLeft', 'move', 'm)']\n",
      "[8, 11, 10, 12, 12, 13, 4, 9]\n",
      "\n",
      "Tokens: torch.Size([5, 8, 256])\n",
      "Positions: torch.Size([5, 8, 512])\n",
      "Code: torch.Size([5, 256])\n"
     ]
    }
   ],
   "source": [
    "_ = reload(modules.karel)\n",
    "\n",
    "code_encoder = modules.karel.CodeEncoderRL(args)\n",
    "embed = nn.Embedding(43, 256)\n",
    "\n",
    "def code2i(code):\n",
    "    return [vocab.stoi(token) for token in code]\n",
    "\n",
    "def i2embed(ix):\n",
    "    ix = torch.Tensor(ix).unsqueeze(0).to(torch.int64)\n",
    "    em = embed(ix)\n",
    "    return em\n",
    "\n",
    "icode = code2i(example.code_sequence)\n",
    "emcode = i2embed(icode)\n",
    "\n",
    "emcode = torch.cat([emcode] * 5)\n",
    "\n",
    "print(example.code_sequence)\n",
    "print(icode)\n",
    "print(\"\\nTokens:\", emcode.size())\n",
    "\n",
    "position_embed, code_embed = code_encoder(emcode)\n",
    "\n",
    "print(\"Positions:\", position_embed.size())\n",
    "print(\"Code:\", code_embed.size())"
   ]
  },
  {
   "cell_type": "markdown",
   "metadata": {},
   "source": [
    "# Reinforcement Learning Implementation"
   ]
  },
  {
   "cell_type": "code",
   "execution_count": 138,
   "metadata": {},
   "outputs": [],
   "source": [
    "import program_synthesis.karel.rl_agent.policy as policy\n",
    "import program_synthesis.karel.rl_agent.agent as agent\n",
    "import program_synthesis.karel.rl_agent.environment as environment\n",
    "\n",
    "_ = reload(policy)\n",
    "_ = reload(agent)\n",
    "_ = reload(environment)"
   ]
  },
  {
   "cell_type": "code",
   "execution_count": 26,
   "metadata": {},
   "outputs": [],
   "source": [
    "# Test policy\n",
    "pi = policy.KarelEditPolicy(43, args)"
   ]
  },
  {
   "cell_type": "code",
   "execution_count": 27,
   "metadata": {},
   "outputs": [
    {
     "data": {
      "text/plain": [
       "torch.Size([7, 512])"
      ]
     },
     "execution_count": 27,
     "metadata": {},
     "output_type": "execute_result"
    }
   ],
   "source": [
    "I, O = grid_from_example(example)\n",
    "\n",
    "update = compose([\n",
    "    torch.from_numpy,\n",
    "    lambda x : x.to(torch.float32),\n",
    "    lambda x : x.unsqueeze(0),\n",
    "    lambda x : x.repeat(7, 1, 1, 1, 1),\n",
    "])\n",
    "\n",
    "I, O = map(update, (I, O))\n",
    "\n",
    "pi.encode_task(I, O).size()"
   ]
  },
  {
   "cell_type": "code",
   "execution_count": 28,
   "metadata": {},
   "outputs": [
    {
     "name": "stdout",
     "output_type": "stream",
     "text": [
      "torch.Size([7, 8])\n",
      "torch.Size([7, 8, 512])\n",
      "torch.Size([7, 256])\n"
     ]
    }
   ],
   "source": [
    "update_code = compose([\n",
    "    lambda x : [vocab.stoi(token) for token in x],\n",
    "    torch.LongTensor,\n",
    "    lambda x : x.unsqueeze(0).repeat(7, 1),\n",
    "])\n",
    "\n",
    "code_seq = update_code(example.code_sequence)\n",
    "\n",
    "print(code_seq.size())\n",
    "\n",
    "pos, code = pi.encode_code(code_seq)\n",
    "print(pos.size())\n",
    "print(code.size())"
   ]
  },
  {
   "cell_type": "code",
   "execution_count": 35,
   "metadata": {},
   "outputs": [
    {
     "name": "stdout",
     "output_type": "stream",
     "text": [
      "Loaded vocab /media/marcelo/OS/Users/marx/Documents/marcelo/near/projects/program_synthesis/program_synthesis/karel/../../data/karel/word.vocab: 43\n"
     ]
    }
   ],
   "source": [
    "# Test Agent\n",
    "m_env = environment.KarelEditEnv()\n",
    "a = agent.KarelAgent(m_env, args)"
   ]
  },
  {
   "cell_type": "code",
   "execution_count": 36,
   "metadata": {},
   "outputs": [
    {
     "name": "stdout",
     "output_type": "stream",
     "text": [
      "torch.Size([1, 5, 15, 18, 18]) torch.Size([1, 5, 15, 18, 18])\n"
     ]
    }
   ],
   "source": [
    "_ = m_env.reset()\n",
    "task = m_env.prepare_task(example.input_tests)\n",
    "print(task.inputs.size(), task.outputs.size())"
   ]
  },
  {
   "cell_type": "code",
   "execution_count": 144,
   "metadata": {},
   "outputs": [
    {
     "name": "stdout",
     "output_type": "stream",
     "text": [
      "Loaded vocab /media/marcelo/OS/Users/marx/Documents/marcelo/near/projects/program_synthesis/program_synthesis/karel/../../data/karel/word.vocab: 43\n"
     ]
    },
    {
     "data": {
      "text/plain": [
       "Action(id=0, parameters=ActionAddParameters(location=3, token='turnLeft'))"
      ]
     },
     "execution_count": 144,
     "metadata": {},
     "output_type": "execute_result"
    }
   ],
   "source": [
    "_ = reload(agent)\n",
    "\n",
    "m_env = environment.KarelEditEnv()\n",
    "a = agent.KarelAgent(m_env, args)\n",
    "_ = m_env.reset()\n",
    "task = m_env.prepare_task(example.input_tests)\n",
    "a.set_task(task)\n",
    "a.select_action()"
   ]
  },
  {
   "cell_type": "code",
   "execution_count": 148,
   "metadata": {},
   "outputs": [
    {
     "data": {
      "text/plain": [
       "2"
      ]
     },
     "execution_count": 148,
     "metadata": {},
     "output_type": "execute_result"
    }
   ],
   "source": [
    "vocab.stoi(vocab.itos(-1))"
   ]
  },
  {
   "cell_type": "code",
   "execution_count": null,
   "metadata": {},
   "outputs": [],
   "source": []
  }
 ],
 "metadata": {
  "kernelspec": {
   "display_name": "Python 3",
   "language": "python",
   "name": "python3"
  },
  "language_info": {
   "codemirror_mode": {
    "name": "ipython",
    "version": 3
   },
   "file_extension": ".py",
   "mimetype": "text/x-python",
   "name": "python",
   "nbconvert_exporter": "python",
   "pygments_lexer": "ipython3",
   "version": "3.6.3"
  }
 },
 "nbformat": 4,
 "nbformat_minor": 2
}
